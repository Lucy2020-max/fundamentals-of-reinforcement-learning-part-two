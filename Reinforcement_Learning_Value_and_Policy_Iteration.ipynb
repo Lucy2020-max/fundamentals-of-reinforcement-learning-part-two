{
 "cells": [
  {
   "cell_type": "code",
   "execution_count": 1,
   "id": "6c30c905",
   "metadata": {},
   "outputs": [],
   "source": [
    "# This notebook shows application of the following reinforcement learning ideas:\n",
    "# - Policy Evaluation and Policy Improvement.\n",
    "# - Value and Policy Iteration.\n",
    "# - Bellman Equations."
   ]
  },
  {
   "cell_type": "code",
   "execution_count": 2,
   "id": "fccf9da9",
   "metadata": {},
   "outputs": [],
   "source": [
    "# Mouseton City, a thriving metropolis with a booming technology industry, \n",
    "# has recently experienced an influx of grid-loving software engineers. \n",
    "# Unfortunately, the city's street parking system, which charges a fixed rate, \n",
    "# is struggling to keep up with the increased demand. To address this, \n",
    "# the city council has decided to modify the pricing scheme to better promote \n",
    "# social welfare. In general, the city considers social welfare higher when more \n",
    "# parking is being used, the exception being that the city prefers that at least \n",
    "# one spot is left unoccupied (so that it is available in case someone really \n",
    "# needs it). The city council has created a Markov decision process (MDP) to \n",
    "# model the demand for parking with a reward function that reflects its \n",
    "# preferences. Now the city has hired an expert in dynamic programming — \n",
    "# to help determine an optimal policy."
   ]
  },
  {
   "cell_type": "code",
   "execution_count": 3,
   "id": "55864548",
   "metadata": {},
   "outputs": [
    {
     "data": {
      "text/plain": [
       "<Figure size 432x288 with 0 Axes>"
      ]
     },
     "metadata": {},
     "output_type": "display_data"
    }
   ],
   "source": [
    "%matplotlib inline\n",
    "import numpy as np\n",
    "import tools"
   ]
  },
  {
   "cell_type": "code",
   "execution_count": 4,
   "id": "08822414",
   "metadata": {},
   "outputs": [],
   "source": [
    "# Let's consider an environment with three parking spaces and three price points. \n",
    "# Note that an environment with three parking spaces actually has four states \n",
    "# zero, one, two, or three spaces could be occupied.\n",
    "num_spaces = 3\n",
    "num_prices = 3\n",
    "env = tools.ParkingWorld(num_spaces, num_prices)\n",
    "V = np.zeros(num_spaces + 1)\n",
    "pi = np.ones((num_spaces + 1, num_prices)) / num_prices"
   ]
  },
  {
   "cell_type": "code",
   "execution_count": 5,
   "id": "119895a9",
   "metadata": {},
   "outputs": [
    {
     "data": {
      "text/plain": [
       "array([0., 0., 0., 0.])"
      ]
     },
     "execution_count": 5,
     "metadata": {},
     "output_type": "execute_result"
    }
   ],
   "source": [
    "V"
   ]
  },
  {
   "cell_type": "code",
   "execution_count": 6,
   "id": "61074a09",
   "metadata": {},
   "outputs": [
    {
     "data": {
      "text/plain": [
       "array([[0.33333333, 0.33333333, 0.33333333],\n",
       "       [0.33333333, 0.33333333, 0.33333333],\n",
       "       [0.33333333, 0.33333333, 0.33333333],\n",
       "       [0.33333333, 0.33333333, 0.33333333]])"
      ]
     },
     "execution_count": 6,
     "metadata": {},
     "output_type": "execute_result"
    }
   ],
   "source": [
    "pi"
   ]
  },
  {
   "cell_type": "code",
   "execution_count": 7,
   "id": "9b8c8606",
   "metadata": {},
   "outputs": [
    {
     "name": "stdout",
     "output_type": "stream",
     "text": [
      "pi(A=0|S=0) = 0.75    pi(A=1|S=0) = 0.11    pi(A=2|S=0) = 0.14    \n",
      "pi(A=0|S=1) = 0.33    pi(A=1|S=1) = 0.33    pi(A=2|S=1) = 0.33    \n",
      "pi(A=0|S=2) = 0.33    pi(A=1|S=2) = 0.33    pi(A=2|S=2) = 0.33    \n",
      "pi(A=0|S=3) = 0.33    pi(A=1|S=3) = 0.33    pi(A=2|S=3) = 0.33    \n"
     ]
    }
   ],
   "source": [
    "pi[0] = [0.75, 0.11, 0.14]\n",
    "\n",
    "for s, pi_s in enumerate(pi):\n",
    "    for a, p in enumerate(pi_s):\n",
    "        print(f'pi(A={a}|S={s}) = {p.round(2)}    ', end='')\n",
    "    print()"
   ]
  },
  {
   "cell_type": "code",
   "execution_count": 8,
   "id": "2a547351",
   "metadata": {},
   "outputs": [
    {
     "data": {
      "image/png": "[encoded data removed]",
      "text/plain": [
       "<Figure size 900x360 with 3 Axes>"
      ]
     },
     "metadata": {},
     "output_type": "display_data"
    }
   ],
   "source": [
    "# On the left hand side plot, the value function is displayed as a barplot. \n",
    "# State zero has an expected return of ten, \n",
    "# while the other states have an expected return of zero. \n",
    "# On the right hand side plot, the policy is displayed on a two-dimensional \n",
    "# grid. Each vertical strip gives the policy at the labeled state. \n",
    "# In state zero, action zero is the darkest because the agent's policy makes \n",
    "# this choice with the highest probability. In the other states the agent has \n",
    "# the equiprobable policy, so the vertical strips are colored uniformly.\n",
    "\n",
    "V[0] = 1\n",
    "\n",
    "tools.plot(V, pi)"
   ]
  },
  {
   "cell_type": "code",
   "execution_count": 9,
   "id": "44cece1e",
   "metadata": {},
   "outputs": [
    {
     "data": {
      "text/plain": [
       "[0, 1, 2, 3]"
      ]
     },
     "execution_count": 9,
     "metadata": {},
     "output_type": "execute_result"
    }
   ],
   "source": [
    "# The state space and the action set as attributes of the environment is:\n",
    "env.S"
   ]
  },
  {
   "cell_type": "code",
   "execution_count": 10,
   "id": "d344def8",
   "metadata": {},
   "outputs": [
    {
     "data": {
      "text/plain": [
       "[0, 1, 2]"
      ]
     },
     "execution_count": 10,
     "metadata": {},
     "output_type": "execute_result"
    }
   ],
   "source": [
    "env.A"
   ]
  },
  {
   "cell_type": "code",
   "execution_count": 11,
   "id": "74cd36d8",
   "metadata": {},
   "outputs": [
    {
     "data": {
      "text/plain": [
       "array([[1.        , 0.12390437],\n",
       "       [2.        , 0.15133714],\n",
       "       [3.        , 0.1848436 ],\n",
       "       [2.        , 0.53991488]])"
      ]
     },
     "execution_count": 11,
     "metadata": {},
     "output_type": "execute_result"
    }
   ],
   "source": [
    "# The transitions method takes a state and an action and returns a 2-dimensional \n",
    "# array, where the entry at (𝑖,0) is the reward for transitioning to state 𝑖 from\n",
    "# the current state and the entry at (𝑖,1) is the conditional probability of \n",
    "# transitioning to state 𝑖 given the current state and action.\n",
    "state = 3\n",
    "action = 1\n",
    "transitions = env.transitions(state, action)\n",
    "transitions"
   ]
  },
  {
   "cell_type": "code",
   "execution_count": 12,
   "id": "685b1d91",
   "metadata": {},
   "outputs": [
    {
     "name": "stdout",
     "output_type": "stream",
     "text": [
      "p(S'=0, R=1.0 | S=3, A=1) = 0.12\n",
      "p(S'=1, R=2.0 | S=3, A=1) = 0.15\n",
      "p(S'=2, R=3.0 | S=3, A=1) = 0.18\n",
      "p(S'=3, R=2.0 | S=3, A=1) = 0.54\n"
     ]
    }
   ],
   "source": [
    "for sp, (r, p) in enumerate(transitions):\n",
    "    print(f'p(S\\'={sp}, R={r} | S={state}, A={action}) = {p.round(2)}')"
   ]
  },
  {
   "cell_type": "code",
   "execution_count": 13,
   "id": "f93396c7",
   "metadata": {},
   "outputs": [],
   "source": [
    "# Policy evaluation works by iteratively applying the Bellman equation for 𝑣𝜋 \n",
    "# to a working value function, as an update rule, as shown below.\n",
    "def evaluate_policy(env, V, pi, gamma, theta):\n",
    "    delta = float('inf')\n",
    "    while delta > theta:\n",
    "        delta = 0\n",
    "        for s in env.S:\n",
    "            v = V[s]\n",
    "            bellman_update(env, V, pi, s, gamma)\n",
    "            delta = max(delta, abs(v - V[s]))\n",
    "            \n",
    "    return V"
   ]
  },
  {
   "cell_type": "code",
   "execution_count": 14,
   "id": "69739431",
   "metadata": {},
   "outputs": [],
   "source": [
    "def bellman_update(env, V, pi, s, gamma):\n",
    "    \"\"\"Mutate ``V`` according to the Bellman update equation.\"\"\"\n",
    "    pi_s = pi[s]\n",
    "    new_V = 0\n",
    "    for a,p in enumerate(pi_s):\n",
    "        transitions = env.transitions(s,a)\n",
    "        sum1 = 0\n",
    "        for s1 in env.S:\n",
    "            r = transitions[s1][0]\n",
    "            p1 = transitions[s1][1]\n",
    "            sum1 = sum1 + p1*(r+gamma*V[s1])\n",
    "        new_V = new_V + p*sum1\n",
    "    V[s] = new_V\n",
    "    return V"
   ]
  },
  {
   "cell_type": "code",
   "execution_count": 15,
   "id": "37036dbe",
   "metadata": {},
   "outputs": [
    {
     "name": "stdout",
     "output_type": "stream",
     "text": [
      "[80.04173399 81.65532303 83.37394007 85.12975566 86.87174913 88.55589131\n",
      " 90.14020422 91.58180605 92.81929841 93.78915889 87.77792991]\n"
     ]
    }
   ],
   "source": [
    "# Let's use the policy evaluation algorithm to evaluate the city's policy, \n",
    "# which charges a constant price of one.\n",
    "\n",
    "# set up test environment\n",
    "num_spaces = 10\n",
    "num_prices = 4\n",
    "env = tools.ParkingWorld(num_spaces, num_prices)\n",
    "\n",
    "# build test policy\n",
    "city_policy = np.zeros((num_spaces + 1, num_prices))\n",
    "city_policy[:, 1] = 1\n",
    "\n",
    "gamma = 0.9\n",
    "theta = 0.1\n",
    "\n",
    "V = np.zeros(num_spaces + 1)\n",
    "V = evaluate_policy(env, V, city_policy, gamma, theta)\n",
    "\n",
    "print(V)"
   ]
  },
  {
   "cell_type": "code",
   "execution_count": 16,
   "id": "60cb8b82",
   "metadata": {},
   "outputs": [],
   "source": [
    "# set up test environment\n",
    "num_spaces = 10\n",
    "num_prices = 4\n",
    "env = tools.ParkingWorld(num_spaces, num_prices)\n",
    "\n",
    "# build test policy\n",
    "city_policy = np.zeros((num_spaces + 1, num_prices))\n",
    "city_policy[:, 1] = 1\n",
    "\n",
    "gamma = 0.9\n",
    "theta = 0.1\n",
    "\n",
    "V = np.zeros(num_spaces + 1)\n",
    "V = evaluate_policy(env, V, city_policy, gamma, theta)"
   ]
  },
  {
   "cell_type": "code",
   "execution_count": 17,
   "id": "67560f9f",
   "metadata": {},
   "outputs": [
    {
     "data": {
      "image/png": "[encoded data removed]",
      "text/plain": [
       "<Figure size 900x360 with 3 Axes>"
      ]
     },
     "metadata": {},
     "output_type": "display_data"
    }
   ],
   "source": [
    "# Let's use the plot function to visualize the final value function and policy.\n",
    "tools.plot(V, city_policy)\n",
    "# Observe that the value function qualitatively resembles the city council's \n",
    "# preferences — it monotonically increases as more parking is used, \n",
    "# until there is no parking left, in which case the value is lower. \n",
    "# Because of the relatively simple reward function (more reward is accrued when \n",
    "# many but not all parking spots are taken and less reward is accrued when few\n",
    "# or all parking spots are taken) and the highly stochastic dynamics function \n",
    "# (each state has positive probability of being reached each time step) the value\n",
    "# functions of most policies will qualitatively resemble this graph. \n",
    "# However, depending on the intelligence of the policy, the scale of the graph \n",
    "# will differ. In other words, better policies will increase the expected return \n",
    "# at every state rather than changing the relative desirability of the states. \n",
    "# Intuitively, the value of a less desirable state can be increased by making it \n",
    "# less likely to remain in a less desirable state. Similarly, the value of a more \n",
    "# desirable state can be increased by making it more likely to remain in a more \n",
    "# desirable state. That is to say, good policies are policies that spend more time\n",
    "# in desirable states and less time in undesirable states. Such a steady state \n",
    "# distribution is achieved by setting the price to be low in low occupancy states \n",
    "# (so that the occupancy will increase) and setting the price high when occupancy\n",
    "# is high (so that full occupancy will be avoided)."
   ]
  },
  {
   "cell_type": "code",
   "execution_count": 18,
   "id": "5f8b158e",
   "metadata": {},
   "outputs": [],
   "source": [
    "# Now the city council would like you to compute a more efficient policy using \n",
    "# policy iteration. Policy iteration works by alternating between evaluating \n",
    "# the existing policy and making the policy greedy with respect to the existing\n",
    "# value function. We have written an outline of the policy iteration algorithm \n",
    "# described in chapter 4.3 of the textbook. We will make use of the policy \n",
    "# evaluation algorithm previously included in this notebook. \n",
    "# The q_greedify_policy function modifies the policy at 𝑠 to be greedy with \n",
    "# respect to the q-values at 𝑠.\n",
    "\n",
    "def improve_policy(env, V, pi, gamma):\n",
    "    policy_stable = True\n",
    "    for s in env.S:\n",
    "        old = pi[s].copy()\n",
    "        q_greedify_policy(env, V, pi, s, gamma)\n",
    "        \n",
    "        if not np.array_equal(pi[s], old):\n",
    "            policy_stable = False\n",
    "            \n",
    "    return pi, policy_stable\n",
    "\n",
    "def policy_iteration(env, gamma, theta):\n",
    "    V = np.zeros(len(env.S))\n",
    "    pi = np.ones((len(env.S), len(env.A))) / len(env.A)\n",
    "    policy_stable = False\n",
    "    \n",
    "    while not policy_stable:\n",
    "        V = evaluate_policy(env, V, pi, gamma, theta)\n",
    "        pi, policy_stable = improve_policy(env, V, pi, gamma)\n",
    "        \n",
    "    return V, pi"
   ]
  },
  {
   "cell_type": "code",
   "execution_count": 19,
   "id": "54274697",
   "metadata": {},
   "outputs": [],
   "source": [
    "def argmax(x):\n",
    "    top_value = float(\"-inf\")\n",
    "    ties = []\n",
    "    for i in range(len(x)):\n",
    "        if x[i] > top_value:\n",
    "            ties = []\n",
    "            top_value = x[i]\n",
    "        if x[i] == top_value:\n",
    "            ties.append(i)\n",
    "    return np.random.choice(ties)\n",
    "\n",
    "def q_greedify_policy(env, V, pi, s, gamma):\n",
    "    \"\"\"Mutate ``pi`` to be greedy with respect to the q-values induced by ``V``.\"\"\"\n",
    "    p_vec = np.zeros(len(env.A))\n",
    "    for a in env.A:\n",
    "        transitions = env.transitions(s,a)\n",
    "        sum1 = 0\n",
    "        for s1 in env.S:\n",
    "            r = transitions[s1][0]\n",
    "            p = transitions[s1][1]\n",
    "            sum1 = sum1 + p*(r+gamma*V[s1])\n",
    "        p_vec[a] = sum1\n",
    "    pi[s] = np.zeros(len(env.A))\n",
    "    act = argmax(p_vec)\n",
    "    pi[s][act] = 1"
   ]
  },
  {
   "cell_type": "code",
   "execution_count": 20,
   "id": "da0d15ae",
   "metadata": {},
   "outputs": [
    {
     "name": "stdout",
     "output_type": "stream",
     "text": [
      "[[0. 0. 0. 1.]\n",
      " [0. 0. 0. 1.]\n",
      " [0. 0. 0. 1.]\n",
      " [0. 0. 0. 1.]\n",
      " [0. 0. 0. 1.]\n",
      " [0. 0. 0. 1.]\n",
      " [0. 0. 0. 1.]] False\n"
     ]
    }
   ],
   "source": [
    "gamma = 0.9\n",
    "theta = 0.1\n",
    "env = tools.ParkingWorld(num_spaces=6, num_prices=4)\n",
    "\n",
    "V = np.array([7, 6, 5, 4, 3, 2, 1])\n",
    "pi = np.ones((7, 4)) / 4\n",
    "\n",
    "new_pi, stable = improve_policy(env, V, pi, gamma)\n",
    "\n",
    "print(new_pi, stable)"
   ]
  },
  {
   "cell_type": "code",
   "execution_count": 21,
   "id": "1377027f",
   "metadata": {},
   "outputs": [
    {
     "name": "stdout",
     "output_type": "stream",
     "text": [
      "[81.60940117 83.28357754 85.03018628 86.79007707 88.51662023 90.16819235\n",
      " 91.70422113 93.0826894  94.25817123 95.25809638 89.45397249] [[1. 0. 0. 0.]\n",
      " [1. 0. 0. 0.]\n",
      " [1. 0. 0. 0.]\n",
      " [1. 0. 0. 0.]\n",
      " [1. 0. 0. 0.]\n",
      " [1. 0. 0. 0.]\n",
      " [1. 0. 0. 0.]\n",
      " [1. 0. 0. 0.]\n",
      " [1. 0. 0. 0.]\n",
      " [0. 0. 0. 1.]\n",
      " [0. 0. 0. 1.]]\n"
     ]
    }
   ],
   "source": [
    "gamma = 0.9\n",
    "theta = 0.1\n",
    "env = tools.ParkingWorld(num_spaces=10, num_prices=4)\n",
    "\n",
    "V, pi = policy_iteration(env, gamma, theta)\n",
    "print(V,pi)"
   ]
  },
  {
   "cell_type": "code",
   "execution_count": 22,
   "id": "178d99a0",
   "metadata": {},
   "outputs": [
    {
     "data": {
      "image/png": "[encoded data removed]",
      "text/plain": [
       "<Figure size 900x360 with 3 Axes>"
      ]
     },
     "metadata": {},
     "output_type": "display_data"
    }
   ],
   "source": [
    "tools.plot(V, pi)"
   ]
  },
  {
   "cell_type": "code",
   "execution_count": 23,
   "id": "4486f171",
   "metadata": {},
   "outputs": [],
   "source": [
    "# The city has also heard about value iteration and would like you to implement\n",
    "# it. Value iteration works by iteratively applying the Bellman optimality \n",
    "# equation for 𝑣∗ to a working value function, as an update rule, as shown below.\n",
    "# The value iteration algorithm is described in chapter 4.4 of the textbook. \n",
    "def value_iteration(env, gamma, theta):\n",
    "    V = np.zeros(len(env.S))\n",
    "    while True:\n",
    "        delta = 0\n",
    "        for s in env.S:\n",
    "            v = V[s]\n",
    "            bellman_optimality_update(env, V, s, gamma)\n",
    "            delta = max(delta, abs(v - V[s]))\n",
    "        if delta < theta:\n",
    "            break\n",
    "    pi = np.ones((len(env.S), len(env.A))) / len(env.A)\n",
    "    for s in env.S:\n",
    "        q_greedify_policy(env, V, pi, s, gamma)\n",
    "    return V, pi"
   ]
  },
  {
   "cell_type": "code",
   "execution_count": 24,
   "id": "2e065d59",
   "metadata": {},
   "outputs": [],
   "source": [
    "def bellman_optimality_update(env, V, s, gamma):\n",
    "    v_vec = np.zeros(len(env.A))\n",
    "    for a in env.A:\n",
    "        transitions = env.transitions(s,a)\n",
    "        sum1 = 0\n",
    "        for s1 in env.S:\n",
    "            r = transitions[s1][0]\n",
    "            p1 = transitions[s1][1]\n",
    "            sum1 = sum1 + p1*(r+gamma*V[s1])\n",
    "        v_vec[a] = sum1\n",
    "    V[s] = max(v_vec)   "
   ]
  },
  {
   "cell_type": "code",
   "execution_count": 25,
   "id": "532bcdf6",
   "metadata": {},
   "outputs": [],
   "source": [
    "gamma = 0.9\n",
    "env = tools.ParkingWorld(num_spaces=6, num_prices=4)\n",
    "\n",
    "bellman_optimality_update(env, V, 0, gamma)\n",
    "\n",
    "bellman_optimality_update(env, V, 2, gamma)"
   ]
  },
  {
   "cell_type": "code",
   "execution_count": 26,
   "id": "3469189b",
   "metadata": {},
   "outputs": [],
   "source": [
    "gamma = 0.9\n",
    "env = tools.ParkingWorld(num_spaces=10, num_prices=4)\n",
    "\n",
    "V = np.array([1, 2, 3, 4, 5, 6, 7, 8, 9, 10, 11])\n",
    "\n",
    "for _ in range(10):\n",
    "    for s in env.S:\n",
    "        bellman_optimality_update(env, V, s, gamma)"
   ]
  },
  {
   "cell_type": "code",
   "execution_count": 27,
   "id": "9f442b47",
   "metadata": {},
   "outputs": [],
   "source": [
    "env = tools.ParkingWorld(num_spaces=10, num_prices=4)\n",
    "gamma = 0.9\n",
    "theta = 0.1\n",
    "V, pi = value_iteration(env, gamma, theta)"
   ]
  },
  {
   "cell_type": "code",
   "execution_count": 28,
   "id": "dec304b2",
   "metadata": {},
   "outputs": [
    {
     "data": {
      "image/png": "[encoded data removed]",
      "text/plain": [
       "<Figure size 900x360 with 3 Axes>"
      ]
     },
     "metadata": {},
     "output_type": "display_data"
    }
   ],
   "source": [
    "tools.plot(V, pi)\n",
    "# In the value iteration algorithm above, a policy is not explicitly maintained\n",
    "# until the value function has converged"
   ]
  },
  {
   "cell_type": "code",
   "execution_count": 29,
   "id": "453cd47d",
   "metadata": {},
   "outputs": [],
   "source": [
    "# The value iteration algorithm below behaves identically to value_iteration \n",
    "# and it maintains an updated policy. Writing value iteration in this form makes\n",
    "# its relationship to policy iteration more evident. Policy iteration alternates\n",
    "# between doing complete greedifications and complete evaluations. \n",
    "# On the other hand, value iteration alternates between doing local greedifications \n",
    "# and local evaluations.\n",
    "def value_iteration2(env, gamma, theta):\n",
    "    V = np.zeros(len(env.S))\n",
    "    pi = np.ones((len(env.S), len(env.A))) / len(env.A)\n",
    "    while True:\n",
    "        delta = 0\n",
    "        for s in env.S:\n",
    "            v = V[s]\n",
    "            q_greedify_policy(env, V, pi, s, gamma)\n",
    "            bellman_update(env, V, pi, s, gamma)\n",
    "            delta = max(delta, abs(v - V[s]))\n",
    "        if delta < theta:\n",
    "            break\n",
    "    return V, pi"
   ]
  },
  {
   "cell_type": "code",
   "execution_count": 30,
   "id": "6417b472",
   "metadata": {},
   "outputs": [
    {
     "data": {
      "image/png": "[encoded data removed]",
      "text/plain": [
       "<Figure size 900x360 with 3 Axes>"
      ]
     },
     "metadata": {},
     "output_type": "display_data"
    }
   ],
   "source": [
    "env = tools.ParkingWorld(num_spaces=10, num_prices=4)\n",
    "gamma = 0.9\n",
    "theta = 0.1\n",
    "V, pi = value_iteration2(env, gamma, theta)\n",
    "tools.plot(V, pi)"
   ]
  },
  {
   "cell_type": "code",
   "execution_count": null,
   "id": "c4f766e1",
   "metadata": {},
   "outputs": [],
   "source": []
  }
 ],
 "metadata": {
  "kernelspec": {
   "display_name": "Python 3",
   "language": "python",
   "name": "python3"
  },
  "language_info": {
   "codemirror_mode": {
    "name": "ipython",
    "version": 3
   },
   "file_extension": ".py",
   "mimetype": "text/x-python",
   "name": "python",
   "nbconvert_exporter": "python",
   "pygments_lexer": "ipython3",
   "version": "3.8.8"
  }
 },
 "nbformat": 4,
 "nbformat_minor": 5
}
